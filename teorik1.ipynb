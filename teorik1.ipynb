{
 "cells": [
  {
   "cell_type": "code",
   "execution_count": 3,
   "id": "2130269a",
   "metadata": {},
   "outputs": [
    {
     "name": "stdout",
     "output_type": "stream",
     "text": [
      "Hello World!\n"
     ]
    }
   ],
   "source": [
    "print('Hello World!')"
   ]
  },
  {
   "cell_type": "code",
   "execution_count": null,
   "id": "827f04f5",
   "metadata": {},
   "outputs": [],
   "source": [
    "x=input('Adınızı Giriniz=')"
   ]
  },
  {
   "cell_type": "code",
   "execution_count": null,
   "id": "04e4224c",
   "metadata": {},
   "outputs": [],
   "source": [
    "print(x)"
   ]
  },
  {
   "cell_type": "code",
   "execution_count": 7,
   "id": "18e0a39e",
   "metadata": {
    "scrolled": false
   },
   "outputs": [
    {
     "name": "stdout",
     "output_type": "stream",
     "text": [
      "10.62\n",
      "10.6\n"
     ]
    }
   ],
   "source": [
    "x=10.62;\n",
    "y=round(x,1);\n",
    "print(x);\n",
    "print(y);"
   ]
  },
  {
   "cell_type": "code",
   "execution_count": 8,
   "id": "a0f0bf33",
   "metadata": {},
   "outputs": [
    {
     "data": {
      "text/plain": [
       "float"
      ]
     },
     "execution_count": 8,
     "metadata": {},
     "output_type": "execute_result"
    }
   ],
   "source": [
    "type(x)"
   ]
  },
  {
   "cell_type": "code",
   "execution_count": 9,
   "id": "c2755e63",
   "metadata": {},
   "outputs": [
    {
     "data": {
      "text/plain": [
       "float"
      ]
     },
     "execution_count": 9,
     "metadata": {},
     "output_type": "execute_result"
    }
   ],
   "source": [
    "type(y)"
   ]
  },
  {
   "cell_type": "code",
   "execution_count": 10,
   "id": "40ab9fba",
   "metadata": {},
   "outputs": [
    {
     "data": {
      "text/plain": [
       "0"
      ]
     },
     "execution_count": 10,
     "metadata": {},
     "output_type": "execute_result"
    }
   ],
   "source": [
    "x=15\n",
    "y=5\n",
    "x%y"
   ]
  },
  {
   "cell_type": "code",
   "execution_count": 11,
   "id": "18586bbb",
   "metadata": {},
   "outputs": [
    {
     "name": "stdout",
     "output_type": "stream",
     "text": [
      "40353607\n"
     ]
    }
   ],
   "source": [
    "x=7\n",
    "y=9\n",
    "print(x**y)"
   ]
  },
  {
   "cell_type": "code",
   "execution_count": 14,
   "id": "a6a22f8a",
   "metadata": {},
   "outputs": [
    {
     "name": "stdout",
     "output_type": "stream",
     "text": [
      "Hello World \n",
      "ell\n",
      "Hello World Hello World Hello World \n",
      "Hello World i am a human\n"
     ]
    }
   ],
   "source": [
    "str='Hello World '\n",
    "print(str)\n",
    "print(str[1:4])\n",
    "print(str*3)\n",
    "print(str+'i am a human')"
   ]
  },
  {
   "cell_type": "code",
   "execution_count": 15,
   "id": "aa5c61be",
   "metadata": {},
   "outputs": [
    {
     "name": "stdout",
     "output_type": "stream",
     "text": [
      "['abcd', 786, 2.23, 'Feda', 80.5]\n",
      "['abcd', 786, 2.23]\n",
      "['ehe', 215]\n",
      "['ehe', 215, 'abcd', 786, 2.23, 'Feda', 80.5]\n"
     ]
    }
   ],
   "source": [
    "list=['abcd',786,2.23,'Feda',80.5]\n",
    "tinylist=['ehe',215]\n",
    "print(list)\n",
    "print(list[0:3])\n",
    "print(tinylist)\n",
    "print(tinylist+list)"
   ]
  },
  {
   "cell_type": "code",
   "execution_count": 22,
   "id": "a6541042",
   "metadata": {},
   "outputs": [
    {
     "name": "stdout",
     "output_type": "stream",
     "text": [
      "i like bananas\n",
      "i like apples\n"
     ]
    }
   ],
   "source": [
    "txt='i like apples'\n",
    "x=txt.replace('apples','bananas')\n",
    "print(x)\n",
    "print(txt)"
   ]
  },
  {
   "cell_type": "code",
   "execution_count": 30,
   "id": "5f8292ab",
   "metadata": {},
   "outputs": [
    {
     "name": "stdout",
     "output_type": "stream",
     "text": [
      "(123, 'ehehe', 55)\n",
      "('yehuu', 234)\n",
      "(123, 'ehehe', 55, 'yehuu', 234)\n"
     ]
    }
   ],
   "source": [
    "tuple=(123,'ehehe',55)\n",
    "tinytuple=('yehuu',234)\n",
    "print(tuple)\n",
    "print(tinytuple)\n",
    "print(tuple + tinytuple)"
   ]
  },
  {
   "cell_type": "code",
   "execution_count": 33,
   "id": "67545a06",
   "metadata": {},
   "outputs": [
    {
     "name": "stdout",
     "output_type": "stream",
     "text": [
      "{'one': 'this is one'}\n",
      "{'name': 'Feda', 'code': 1111}\n"
     ]
    }
   ],
   "source": [
    "dict={'one':'this is one'}\n",
    "tinydict={'name':'Feda', 'code':1111}\n",
    "print(dict)\n",
    "print(tinydict)"
   ]
  },
  {
   "cell_type": "code",
   "execution_count": null,
   "id": "1028d05a",
   "metadata": {},
   "outputs": [],
   "source": []
  }
 ],
 "metadata": {
  "kernelspec": {
   "display_name": "Python 3",
   "language": "python",
   "name": "python3"
  },
  "language_info": {
   "codemirror_mode": {
    "name": "ipython",
    "version": 3
   },
   "file_extension": ".py",
   "mimetype": "text/x-python",
   "name": "python",
   "nbconvert_exporter": "python",
   "pygments_lexer": "ipython3",
   "version": "3.8.8"
  }
 },
 "nbformat": 4,
 "nbformat_minor": 5
}
